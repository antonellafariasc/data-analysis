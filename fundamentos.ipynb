{
 "cells": [
  {
   "cell_type": "markdown",
   "metadata": {},
   "source": [
    "### Fundamentos de python\n",
    "* variables\n",
    "* operadores matematicos basicos\n",
    "* operadores de comparacion\n",
    "* operadores booleanos\n",
    "* condicionales simples\n",
    "* condicionales completos\n",
    "* condicionales anidados\n",
    "* condicionales encadenados\n",
    "* estructuras de datos\n",
    "    - cadenas de caracteres\n",
    "    - enteros\n",
    "    - flotantes\n",
    "    - listas\n",
    "    - tuplas\n",
    "    - diccionarios\n",
    "* estructuras de control\n",
    "    - ciclos finitos\n",
    "    - ciclos infinitos\n",
    "    - funciones\n",
    "* fundamentos de programacion orientada a objetos\n",
    "\n",
    "\n"
   ]
  },
  {
   "cell_type": "markdown",
   "metadata": {},
   "source": []
  },
  {
   "cell_type": "code",
   "execution_count": null,
   "metadata": {},
   "outputs": [],
   "source": [
    "name= \"antonella\"\n"
   ]
  },
  {
   "cell_type": "code",
   "execution_count": 3,
   "metadata": {},
   "outputs": [],
   "source": [
    "last_name= \"farias\""
   ]
  },
  {
   "cell_type": "code",
   "execution_count": 5,
   "metadata": {},
   "outputs": [],
   "source": [
    "# ejemplo de lo que no se puede hacer\n",
    "Name = \"Antonella\"\n",
    "Last_name = \"Farias\"\n"
   ]
  },
  {
   "cell_type": "code",
   "execution_count": 6,
   "metadata": {},
   "outputs": [
    {
     "data": {
      "text/plain": [
       "'farias'"
      ]
     },
     "execution_count": 6,
     "metadata": {},
     "output_type": "execute_result"
    }
   ],
   "source": [
    "last_name"
   ]
  },
  {
   "cell_type": "markdown",
   "metadata": {},
   "source": [
    "#### Operadores matematicos"
   ]
  },
  {
   "cell_type": "code",
   "execution_count": 10,
   "metadata": {},
   "outputs": [
    {
     "name": "stdout",
     "output_type": "stream",
     "text": [
      "30\n"
     ]
    }
   ],
   "source": [
    "#suma\n",
    "number1 = 10\n",
    "number2 = 20\n",
    "\n",
    "result = number1 + number2\n",
    "print(result)"
   ]
  },
  {
   "cell_type": "code",
   "execution_count": 12,
   "metadata": {},
   "outputs": [
    {
     "name": "stdout",
     "output_type": "stream",
     "text": [
      "15.38\n"
     ]
    }
   ],
   "source": [
    "number3 = 12.88\n",
    "number4 = 2.5\n",
    "\n",
    "resultado_suma2 = number3 + number4\n",
    "print(resultado_suma2)"
   ]
  },
  {
   "cell_type": "code",
   "execution_count": 15,
   "metadata": {},
   "outputs": [
    {
     "name": "stdout",
     "output_type": "stream",
     "text": [
      "7.449999999999999\n"
     ]
    }
   ],
   "source": [
    "#resta\n",
    "number5 = 20\n",
    "number6 = 12.55\n",
    "resultado_resta = number5 - number6\n",
    "print (resultado_resta)\n"
   ]
  },
  {
   "cell_type": "code",
   "execution_count": 14,
   "metadata": {},
   "outputs": [
    {
     "name": "stdout",
     "output_type": "stream",
     "text": [
      " el resultado de suma es: 15.38\n"
     ]
    }
   ],
   "source": [
    "print(f\" el resultado de suma es: {resultado_suma2}\")"
   ]
  },
  {
   "cell_type": "code",
   "execution_count": 19,
   "metadata": {},
   "outputs": [
    {
     "name": "stdout",
     "output_type": "stream",
     "text": [
      "el resultado de la multiplicacion es: 200\n"
     ]
    }
   ],
   "source": [
    "# multiplicacion\n",
    "resultado_multiplicacion = number1 * number2 \n",
    "print (f\"el resultado de la multiplicacion es: {resultado_multiplicacion}\")\n"
   ]
  },
  {
   "cell_type": "code",
   "execution_count": 21,
   "metadata": {},
   "outputs": [
    {
     "name": "stdout",
     "output_type": "stream",
     "text": [
      "el resultado de la div es: 0.5\n"
     ]
    }
   ],
   "source": [
    "#division\n",
    "resultado_div = number1 / number2\n",
    "print (f\"el resultado de la div es: {resultado_div}\")\n",
    "\n"
   ]
  },
  {
   "cell_type": "markdown",
   "metadata": {},
   "source": [
    "#### Operadores de comparacion"
   ]
  },
  {
   "cell_type": "code",
   "execution_count": 23,
   "metadata": {},
   "outputs": [],
   "source": [
    "# mayor que >\n",
    "# menor que <\n",
    "# mayor o igual que >=\n",
    "# menor o igual que <=\n",
    "# igual que ==\n",
    "# diferente que !=\n",
    "#ejemplos de comparacion: 3>2"
   ]
  },
  {
   "cell_type": "markdown",
   "metadata": {},
   "source": [
    "### operadores booleanos\n",
    "* true o false"
   ]
  },
  {
   "cell_type": "code",
   "execution_count": 24,
   "metadata": {},
   "outputs": [
    {
     "data": {
      "text/plain": [
       "False"
      ]
     },
     "execution_count": 24,
     "metadata": {},
     "output_type": "execute_result"
    }
   ],
   "source": [
    "resultado_div >= resultado_multiplicacion"
   ]
  },
  {
   "cell_type": "code",
   "execution_count": 25,
   "metadata": {},
   "outputs": [
    {
     "data": {
      "text/plain": [
       "True"
      ]
     },
     "execution_count": 25,
     "metadata": {},
     "output_type": "execute_result"
    }
   ],
   "source": [
    "\"pedro\" == \"pedro\""
   ]
  },
  {
   "cell_type": "markdown",
   "metadata": {},
   "source": [
    "### condicionales "
   ]
  },
  {
   "cell_type": "code",
   "execution_count": null,
   "metadata": {},
   "outputs": [
    {
     "name": "stdout",
     "output_type": "stream",
     "text": [
      "la division es menor que la multilplicacion\n"
     ]
    }
   ],
   "source": [
    "# condicionale simple\n",
    "# if condition: \n",
    "#       intrucciones\n",
    "\n",
    "if resultado_div <= resultado_multiplicacion:\n",
    "    print (\"la division es menor que la multilplicacion\")"
   ]
  },
  {
   "cell_type": "code",
   "execution_count": 29,
   "metadata": {},
   "outputs": [
    {
     "name": "stdout",
     "output_type": "stream",
     "text": [
      "la division es mayor que la multilplicacion\n"
     ]
    }
   ],
   "source": [
    "#condicional compuesta\n",
    "#  if condition: \n",
    "#       intrucciones\n",
    "# else:\n",
    "#       intrucciones\n",
    "\n",
    "if resultado_div >= resultado_multiplicacion:\n",
    "    print (\"la division es menor que la multilplicacion\")\n",
    "else:\n",
    "    print (\"la division es mayor que la multilplicacion\")"
   ]
  },
  {
   "cell_type": "markdown",
   "metadata": {},
   "source": [
    "####condicionales anidados"
   ]
  },
  {
   "cell_type": "code",
   "execution_count": null,
   "metadata": {},
   "outputs": [],
   "source": [
    "# ladies night\n",
    "name_dama = input (\"ingrese su nombre:\")\n",
    "genero = input (\"ingrese su genero:\")\n",
    "edad = int(input (\"ingrese su edad:\"))\n",
    "# edad = int(edad)\n",
    "day = \"jueves\"\n",
    "\n",
    "if day == \"jueves\":\n",
    "    if edad >= 18:\n",
    "        if genero == \"femenino\":\n",
    "            print (\"es ladies night welcome\")"
   ]
  },
  {
   "cell_type": "code",
   "execution_count": null,
   "metadata": {},
   "outputs": [],
   "source": [
    "# ladies night\n",
    "name_dama = input (\"ingrese su nombre:\")\n",
    "genero = input (\"ingrese su genero:\")\n",
    "edad = int(input (\"ingrese su edad:\"))\n",
    "# edad = int(edad)\n",
    "day = \"jueves\"\n",
    "\n",
    "if day == \"jueves\":\n",
    "    if edad >= 18:\n",
    "        if genero == \"femenino\":\n",
    "            print (\"puede entrar gratis\")\n",
    "        else:\n",
    "            print (\"no puede entrar gratis\")\n",
    "    else:\n",
    "        print (\"no tiene la edad sufuciente\") \n",
    "else:\n",
    "    print (\"no es jueves\")"
   ]
  },
  {
   "cell_type": "code",
   "execution_count": 41,
   "metadata": {},
   "outputs": [
    {
     "name": "stdout",
     "output_type": "stream",
     "text": [
      "es jueves\n"
     ]
    }
   ],
   "source": [
    "# condicionales encadenados\n",
    "if day == \"jueves\":\n",
    "    print (\"es jueves\")\n",
    "elif day == \"viernes\":\n",
    "    print (\"es viernes\")\n",
    "elif day == \"sabado\":\n",
    "    print (\"es sabado\")\n",
    "elif day == \"domingo\":\n",
    "    print (\"es domingo\")\n",
    "else:\n",
    "    print(\"no es jueves, viernes, sabado o domingo\")\n",
    "\n"
   ]
  },
  {
   "cell_type": "markdown",
   "metadata": {},
   "source": [
    "### operadores logicos \n",
    "* and\n",
    "* or\n",
    "* not"
   ]
  },
  {
   "cell_type": "code",
   "execution_count": 5,
   "metadata": {},
   "outputs": [
    {
     "ename": "NameError",
     "evalue": "name 'day' is not defined",
     "output_type": "error",
     "traceback": [
      "\u001b[31m---------------------------------------------------------------------------\u001b[39m",
      "\u001b[31mNameError\u001b[39m                                 Traceback (most recent call last)",
      "\u001b[36mCell\u001b[39m\u001b[36m \u001b[39m\u001b[32mIn[5]\u001b[39m\u001b[32m, line 2\u001b[39m\n\u001b[32m      1\u001b[39m \u001b[38;5;66;03m#and\u001b[39;00m\n\u001b[32m----> \u001b[39m\u001b[32m2\u001b[39m \u001b[38;5;28;01mif\u001b[39;00m (\u001b[43mday\u001b[49m ==\u001b[33m\"\u001b[39m\u001b[33mjueves\u001b[39m\u001b[33m\"\u001b[39m) \u001b[38;5;129;01mand\u001b[39;00m (genero == \u001b[33m\"\u001b[39m\u001b[33mfemenino\u001b[39m\u001b[33m\"\u001b[39m):\n\u001b[32m      3\u001b[39m     \u001b[38;5;28mprint\u001b[39m (\u001b[33m\"\u001b[39m\u001b[33mpuede entrar gratis\u001b[39m\u001b[33m\"\u001b[39m)\n",
      "\u001b[31mNameError\u001b[39m: name 'day' is not defined"
     ]
    }
   ],
   "source": [
    "#and\n",
    "if (day ==\"jueves\") and (genero == \"femenino\"):\n",
    "    print (\"puede entrar gratis\")"
   ]
  },
  {
   "cell_type": "code",
   "execution_count": null,
   "metadata": {},
   "outputs": [
    {
     "name": "stdout",
     "output_type": "stream",
     "text": [
      "puede entrar gratis\n"
     ]
    }
   ],
   "source": [
    "#or\n",
    "if (day ==\"jueves\") or (genero == \"femenino\"):\n",
    "    print (\"puede entrar gratis\")"
   ]
  },
  {
   "cell_type": "code",
   "execution_count": null,
   "metadata": {},
   "outputs": [
    {
     "name": "stdout",
     "output_type": "stream",
     "text": [
      "Opciones: Piedra, Papel, Tijera\n",
      "Jugador 2 gana.\n"
     ]
    }
   ],
   "source": [
    "# Solicitar las elecciones de los dos jugadores\n",
    "print(\"Opciones: Piedra, Papel, Tijera\")\n",
    "jugador1 = input(\"Jugador 1, elige tu opción: \").lower()\n",
    "jugador2 = input(\"Jugador 2, elige tu opción: \").lower()\n",
    "\n",
    "# Validar las entradas\n",
    "opciones_validas = [\"piedra\", \"papel\", \"tijera\"]\n",
    "if not (jugador1 in opciones_validas and jugador2 in opciones_validas):\n",
    "    print(\"Ambos jugadores deben elegir entre 'Piedra', 'Papel' o 'Tijera'.\")\n",
    "else:\n",
    "    # Determinar el ganador\n",
    "    if jugador1 == jugador2:\n",
    "        print(\"Es un empate.\")\n",
    "    elif (jugador1 == \"piedra\" and jugador2 == \"tijera\") or \\\n",
    "         (jugador1 == \"papel\" and jugador2 == \"piedra\") or \\\n",
    "         (jugador1 == \"tijera\" and jugador2 == \"papel\"):\n",
    "        print(\"Jugador 1 gana.\")\n",
    "    else:\n",
    "        print(\"Jugador 2 gana.\")"
   ]
  },
  {
   "cell_type": "markdown",
   "metadata": {},
   "source": [
    "### Tipos de datos en python"
   ]
  },
  {
   "cell_type": "code",
   "execution_count": 22,
   "metadata": {},
   "outputs": [],
   "source": [
    "\n",
    "name = \"Antonella\""
   ]
  },
  {
   "cell_type": "code",
   "execution_count": null,
   "metadata": {},
   "outputs": [
    {
     "data": {
      "text/plain": [
       "'Antonella'"
      ]
     },
     "execution_count": 8,
     "metadata": {},
     "output_type": "execute_result"
    }
   ],
   "source": [
    "#pone la primera letra en mayuscula\n",
    "name.capitalize()"
   ]
  },
  {
   "cell_type": "code",
   "execution_count": null,
   "metadata": {},
   "outputs": [
    {
     "data": {
      "text/plain": [
       "1"
      ]
     },
     "execution_count": 9,
     "metadata": {},
     "output_type": "execute_result"
    }
   ],
   "source": [
    "#cuenta las letras a\n",
    "name.count(\"a\") "
   ]
  },
  {
   "cell_type": "code",
   "execution_count": 10,
   "metadata": {},
   "outputs": [
    {
     "data": {
      "text/plain": [
       "'n'"
      ]
     },
     "execution_count": 10,
     "metadata": {},
     "output_type": "execute_result"
    }
   ],
   "source": [
    "#para ver que hay en un indice de una cadena\n",
    "name[0] #la primera letra\n",
    "name[1] #la segunda letra   "
   ]
  },
  {
   "cell_type": "markdown",
   "metadata": {},
   "source": [
    "#### listas"
   ]
  },
  {
   "cell_type": "code",
   "execution_count": 19,
   "metadata": {},
   "outputs": [],
   "source": [
    "#lista de cadenas\n",
    "name_list = [\"antonella\", \"maria\",\"jose\"]"
   ]
  },
  {
   "cell_type": "code",
   "execution_count": 12,
   "metadata": {},
   "outputs": [],
   "source": [
    "#lista de enteros\n",
    "lista_enteros = [1,2,3,4,5,6,7,8,9,10]"
   ]
  },
  {
   "cell_type": "code",
   "execution_count": null,
   "metadata": {},
   "outputs": [],
   "source": [
    "#lista de flotantes\n",
    "lista_flotantes = [1.2,3.4,5.6,7.8]"
   ]
  },
  {
   "cell_type": "code",
   "execution_count": 21,
   "metadata": {},
   "outputs": [],
   "source": [
    "#lista mixta\n",
    "lista_mixta = [\"antonella\", 1, 2.5, True]"
   ]
  },
  {
   "cell_type": "code",
   "execution_count": 23,
   "metadata": {},
   "outputs": [
    {
     "data": {
      "text/plain": [
       "9"
      ]
     },
     "execution_count": 23,
     "metadata": {},
     "output_type": "execute_result"
    }
   ],
   "source": [
    "len (name)"
   ]
  },
  {
   "cell_type": "code",
   "execution_count": 24,
   "metadata": {},
   "outputs": [],
   "source": [
    "#agregar un elemento a la lista\n",
    "name_list.append(\"antonio\")"
   ]
  },
  {
   "cell_type": "code",
   "execution_count": 25,
   "metadata": {},
   "outputs": [
    {
     "data": {
      "text/plain": [
       "['antonella', 'maria', 'jose', 'antonio']"
      ]
     },
     "execution_count": 25,
     "metadata": {},
     "output_type": "execute_result"
    }
   ],
   "source": [
    "name_list"
   ]
  },
  {
   "cell_type": "code",
   "execution_count": 26,
   "metadata": {},
   "outputs": [
    {
     "data": {
      "text/plain": [
       "'antonio'"
      ]
     },
     "execution_count": 26,
     "metadata": {},
     "output_type": "execute_result"
    }
   ],
   "source": [
    "name_list[-1] #ultimo elemento de la lista"
   ]
  },
  {
   "cell_type": "code",
   "execution_count": 29,
   "metadata": {},
   "outputs": [
    {
     "data": {
      "text/plain": [
       "'Antonella'"
      ]
     },
     "execution_count": 29,
     "metadata": {},
     "output_type": "execute_result"
    }
   ],
   "source": [
    "#para modificra la lista original, hay metodos que no modifican la lista original\n",
    "#modificar la lista original\n",
    "name =name.capitalize()\n",
    "name \n"
   ]
  },
  {
   "cell_type": "code",
   "execution_count": 30,
   "metadata": {},
   "outputs": [
    {
     "data": {
      "text/plain": [
       "'antonella'"
      ]
     },
     "execution_count": 30,
     "metadata": {},
     "output_type": "execute_result"
    }
   ],
   "source": [
    "#la lista es mutable \n",
    "name_list[0] "
   ]
  },
  {
   "cell_type": "code",
   "execution_count": 31,
   "metadata": {},
   "outputs": [
    {
     "data": {
      "text/plain": [
       "['antonio', 'maria', 'jose', 'antonio']"
      ]
     },
     "execution_count": 31,
     "metadata": {},
     "output_type": "execute_result"
    }
   ],
   "source": [
    "name_list[0] = 'antonio'\n",
    "name_list"
   ]
  },
  {
   "cell_type": "code",
   "execution_count": 32,
   "metadata": {},
   "outputs": [],
   "source": [
    "name_list2 = name_list.copy() #copia la lista original"
   ]
  },
  {
   "cell_type": "code",
   "execution_count": 33,
   "metadata": {},
   "outputs": [
    {
     "data": {
      "text/plain": [
       "'Antonio'"
      ]
     },
     "execution_count": 33,
     "metadata": {},
     "output_type": "execute_result"
    }
   ],
   "source": [
    "name_list2[-1].capitalize() "
   ]
  },
  {
   "cell_type": "code",
   "execution_count": 37,
   "metadata": {},
   "outputs": [
    {
     "data": {
      "text/plain": [
       "['antonio', 'maria', 'jose']"
      ]
     },
     "execution_count": 37,
     "metadata": {},
     "output_type": "execute_result"
    }
   ],
   "source": [
    "#      0         1         2      3\n",
    "# ['antonio', 'maria', 'jose', 'antonio']\n",
    "# se puede tener un slide de las listas\n",
    "name_list[0:3] #muestra hasta el nombre 3"
   ]
  },
  {
   "cell_type": "code",
   "execution_count": 39,
   "metadata": {},
   "outputs": [
    {
     "data": {
      "text/plain": [
       "['maria', 'jose']"
      ]
     },
     "execution_count": 39,
     "metadata": {},
     "output_type": "execute_result"
    }
   ],
   "source": [
    "name_list[1:3] "
   ]
  },
  {
   "cell_type": "code",
   "execution_count": null,
   "metadata": {},
   "outputs": [
    {
     "data": {
      "text/plain": [
       "['antonio', 'maria']"
      ]
     },
     "execution_count": 36,
     "metadata": {},
     "output_type": "execute_result"
    }
   ],
   "source": [
    "name_list[0:2] #muestra hasta el nombre 2"
   ]
  },
  {
   "cell_type": "code",
   "execution_count": 40,
   "metadata": {},
   "outputs": [
    {
     "data": {
      "text/plain": [
       "['antonio', 'jose']"
      ]
     },
     "execution_count": 40,
     "metadata": {},
     "output_type": "execute_result"
    }
   ],
   "source": [
    "#slide con step para saltar elementos\n",
    "name_list[0::2] #muestra los elementos de 2 en 2"
   ]
  },
  {
   "cell_type": "code",
   "execution_count": null,
   "metadata": {},
   "outputs": [],
   "source": [
    "last_name_list = [\n",
    "                \"farias\",\n",
    "                \"gonzalez\",\n",
    "                \"perez\",\n",
    "                \"rodriguez\"]"
   ]
  },
  {
   "cell_type": "code",
   "execution_count": null,
   "metadata": {},
   "outputs": [],
   "source": []
  },
  {
   "cell_type": "markdown",
   "metadata": {},
   "source": [
    "### Diccionarios"
   ]
  },
  {
   "cell_type": "code",
   "execution_count": 43,
   "metadata": {},
   "outputs": [],
   "source": [
    "#estructura de datos diccionario\n",
    "#diccionario = {clave: valor}\n",
    "#diccionario de claves y valores\n",
    "dict_persona= { \"nombre\": \"antonella\",\n",
    "        \"apellido\": \"farias\",\n",
    "        \"edad\": 30,\n",
    "        \"ciudad\": \"santiago\",\n",
    "        \"pais\": \"chile\",\n",
    "        }\n"
   ]
  },
  {
   "cell_type": "code",
   "execution_count": 44,
   "metadata": {},
   "outputs": [
    {
     "data": {
      "text/plain": [
       "'antonella'"
      ]
     },
     "execution_count": 44,
     "metadata": {},
     "output_type": "execute_result"
    }
   ],
   "source": [
    "dict_persona[\"nombre\"] #muestra el nombre de la persona"
   ]
  },
  {
   "cell_type": "markdown",
   "metadata": {},
   "source": [
    "### tuplas"
   ]
  },
  {
   "cell_type": "code",
   "execution_count": 45,
   "metadata": {},
   "outputs": [],
   "source": [
    "# las tuplas son inmutables, no se pueden modificar\n",
    "#estructura de datos tupla\n",
    "tuple1 = (\"antonella\", \"farias\", 30, \"santiago\", \"chile\")"
   ]
  },
  {
   "cell_type": "markdown",
   "metadata": {},
   "source": [
    "### Ciclos"
   ]
  },
  {
   "cell_type": "markdown",
   "metadata": {},
   "source": [
    "* ciclo for"
   ]
  },
  {
   "cell_type": "code",
   "execution_count": 49,
   "metadata": {},
   "outputs": [
    {
     "name": "stdout",
     "output_type": "stream",
     "text": [
      "Antonio\n",
      "Maria\n",
      "Jose\n",
      "Antonio\n"
     ]
    }
   ],
   "source": [
    "#se sugiere ponerle a cada variable de iteracion un nombre singular a la lista\n",
    "# sintaxis del for \n",
    "#for variable in iterable:\n",
    "#    instrucciones  \n",
    "for nombre in name_list:\n",
    "    print (nombre.capitalize())"
   ]
  },
  {
   "cell_type": "code",
   "execution_count": 63,
   "metadata": {},
   "outputs": [
    {
     "name": "stdout",
     "output_type": "stream",
     "text": [
      "encontramos a Antonio\n",
      "encontramos a Antonio\n"
     ]
    }
   ],
   "source": [
    "#ciclo for para buscar a antonio en la lista de nombres\n",
    "for nombre in name_list:\n",
    "    if nombre == \"antonio\":\n",
    "        print (f\"encontramos a {nombre.capitalize()}\")\n",
    "        \n",
    "    elif nombre == \"Maria\":\n",
    "        print (f\"encontramos a {nombre.capitalize()}\")\n",
    "        break #para salir del ciclo for)"
   ]
  },
  {
   "cell_type": "code",
   "execution_count": 66,
   "metadata": {},
   "outputs": [
    {
     "name": "stdout",
     "output_type": "stream",
     "text": [
      "hola\n",
      "hola\n",
      "hola\n"
     ]
    }
   ],
   "source": [
    "#ciclo con rango\n",
    "for number in range(3): # 0 a 4\n",
    "    print (\"hola\")"
   ]
  },
  {
   "cell_type": "code",
   "execution_count": 67,
   "metadata": {},
   "outputs": [
    {
     "name": "stdout",
     "output_type": "stream",
     "text": [
      "0\n",
      "2\n",
      "4\n",
      "6\n",
      "8\n"
     ]
    }
   ],
   "source": [
    "#ciclo con rango y paso (step)\n",
    "for number in range(0, 10, 2): # 0 a 10 de 2 en 2\n",
    "    print (number)"
   ]
  },
  {
   "cell_type": "code",
   "execution_count": null,
   "metadata": {},
   "outputs": [
    {
     "name": "stdout",
     "output_type": "stream",
     "text": [
      "0\n",
      "1\n",
      "2\n",
      "3\n"
     ]
    }
   ],
   "source": [
    "#ciclo con rango determinado por la cantidad de elementos de la lista\n",
    "#ciclo con rango y len \n",
    "for number in range(len(name_list)):\n",
    "    print (number)\n"
   ]
  },
  {
   "cell_type": "code",
   "execution_count": 73,
   "metadata": {},
   "outputs": [
    {
     "name": "stdout",
     "output_type": "stream",
     "text": [
      "la cantidad de elementos de la lista es: 4\n",
      "antonio\n",
      "maria\n",
      "jose\n",
      "antonio\n"
     ]
    }
   ],
   "source": [
    "cantidad = len(name_list) #cantidad de elementos de la lista\n",
    "print (f\"la cantidad de elementos de la lista es: {cantidad}\")\n",
    "\n",
    "for number in range(len(name_list)):\n",
    "    print (name_list[number])"
   ]
  },
  {
   "cell_type": "code",
   "execution_count": 75,
   "metadata": {},
   "outputs": [
    {
     "name": "stdout",
     "output_type": "stream",
     "text": [
      "encontramos a maria en la posicion 1\n"
     ]
    }
   ],
   "source": [
    "#buscar maria y la posicion de la lista\n",
    "for name in range(len(name_list)):\n",
    "    if name_list[name] == \"maria\":\n",
    "        print (f\"encontramos a maria en la posicion {name}\")\n",
    "        break #para salir del ciclo for"
   ]
  },
  {
   "cell_type": "code",
   "execution_count": 76,
   "metadata": {},
   "outputs": [
    {
     "name": "stdout",
     "output_type": "stream",
     "text": [
      "el nombre antonio esta en la posicion 0\n",
      "el nombre maria esta en la posicion 1\n",
      "el nombre jose esta en la posicion 2\n",
      "el nombre antonio esta en la posicion 3\n"
     ]
    }
   ],
   "source": [
    "#ciclo donde consigas los nombres de la lista y diga en que posicion estan\n",
    "for name in range(len(name_list)):\n",
    "    print (f\"el nombre {name_list[name]} esta en la posicion {name}\")\n",
    "    #break #para salir del ciclo for"
   ]
  },
  {
   "cell_type": "code",
   "execution_count": null,
   "metadata": {},
   "outputs": [],
   "source": []
  }
 ],
 "metadata": {
  "kernelspec": {
   "display_name": "Python 3",
   "language": "python",
   "name": "python3"
  },
  "language_info": {
   "codemirror_mode": {
    "name": "ipython",
    "version": 3
   },
   "file_extension": ".py",
   "mimetype": "text/x-python",
   "name": "python",
   "nbconvert_exporter": "python",
   "pygments_lexer": "ipython3",
   "version": "3.13.2"
  }
 },
 "nbformat": 4,
 "nbformat_minor": 2
}
